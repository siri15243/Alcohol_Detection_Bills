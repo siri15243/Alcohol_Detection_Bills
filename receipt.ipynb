{
 "cells": [
  {
   "cell_type": "code",
   "execution_count": 1,
   "metadata": {},
   "outputs": [],
   "source": [
    "import pytesseract\n",
    "import cv2\n",
    "import pandas as pd"
   ]
  },
  {
   "cell_type": "code",
   "execution_count": 2,
   "metadata": {},
   "outputs": [],
   "source": [
    "df = pd.read_csv('alcohol_names.csv', header=None, encoding='latin-1')"
   ]
  },
  {
   "cell_type": "code",
   "execution_count": 3,
   "metadata": {},
   "outputs": [],
   "source": [
    "alcohol_list = list(df[0])"
   ]
  },
  {
   "cell_type": "code",
   "execution_count": 4,
   "metadata": {},
   "outputs": [],
   "source": [
    "img1 = cv2.imread('bill_sample.jpeg')\n",
    "img2 = cv2.imread('bill2.jpeg')\n",
    "img3 = cv2.imread('bill3.jpeg')\n",
    "img4 = cv2.imread('bill4.jpeg')\n",
    "text1 = pytesseract.image_to_string(img1)\n",
    "text2 = pytesseract.image_to_string(img2)\n",
    "text3 = pytesseract.image_to_string(img3)\n",
    "text4 = pytesseract.image_to_string(img4)"
   ]
  },
  {
   "cell_type": "code",
   "execution_count": 71,
   "metadata": {},
   "outputs": [
    {
     "data": {
      "text/plain": [
       "'ORDER: table 24\\n\\nwus\\n\\ncashier\\np5-Jan-201 31 2:40:02P\\nT ransaction\\nNon vegetable thali- +\\nin ed 1e4 ~\\n\\n  \\n\\x0c'"
      ]
     },
     "execution_count": 71,
     "metadata": {},
     "output_type": "execute_result"
    }
   ],
   "source": [
    "text4"
   ]
  },
  {
   "cell_type": "code",
   "execution_count": 72,
   "metadata": {},
   "outputs": [
    {
     "data": {
      "text/plain": [
       "'il\\n\\n \\n\\nil\\n\\n \\n\\nwi\\n\\n \\n\\n \\n\\nRestaurant Name\\nAddress 1\\nAddress 2\\n\\nTable: 201 Chk: #1111 Guest: 2\\n\\n \\n\\n    \\n\\n5 BLOODY MARY $ 40.75\\n1 FRESH OYSTER $ 12.50\\n\\nSUBTOTAL $ 53.25\\n\\nTAX $ 5.33\\nGRATUITY $ 6.00\\nTOTAL DUE § 64.60\\n\\nTHANK YOU FOR DINING WITH US!\\nPLEASE COME AGAIN\\n\\x0c'"
      ]
     },
     "execution_count": 72,
     "metadata": {},
     "output_type": "execute_result"
    }
   ],
   "source": [
    "text3"
   ]
  },
  {
   "cell_type": "code",
   "execution_count": 73,
   "metadata": {},
   "outputs": [
    {
     "data": {
      "text/plain": [
       "'     \\n\\n1 Ace Midas 30L  125000.00\\ni Spades MET 2400000\\n2 & 4500.00\\nSpades Brut 9000.00\\n40 @ 500.06\\nAce of Spades 20000 .00\\n6 @ 325.00\\nL/P Rose Magnum 1950.00\\nPel /P Brut 1256.00\\n20 Coke 200ml @ 2.00 40.60\\n21 @ 2.00\\nLemonade 200m1 42.00\\n2 @ 2000.00\\nGrey Goose 4.5L 4000.00\\n\\nA? Pussy @ 3.00 126.00\\n30901.33 VAT i185408.00\\nBeverage 208.00\\nWine S/ 181200.00\\nLiquor 4900.00\\nio% Service Chrg 18540-8680\\nTOTAL DUE 203948 .80\\nRA ULL Y Soe eee\\nRolOMsNe tage ee ee\\nDIATE css eae eee eee ew\\n\\naA espa «\\nFREE TUESDAYS! 20% OFF YOUR\\nEVERY TUE WITH THIS RECEIPT\\n\\n  \\n\\n%\\n\\x0c'"
      ]
     },
     "execution_count": 73,
     "metadata": {},
     "output_type": "execute_result"
    }
   ],
   "source": [
    "text2"
   ]
  },
  {
   "cell_type": "code",
   "execution_count": 74,
   "metadata": {},
   "outputs": [
    {
     "data": {
      "text/plain": [
       "' \\n\\n1 No Waiter\\n\\nABéis WAITER\\nsais Price\\n\\nSe tt em net iw SS re e-em Sn Sm on ane wn ee ee ome own aw\\n\\nFLAVOURED MOJITO 380. 00 1,000 33\\n\\nSUCUNBER MINT 70000 1.000 170.0\\nLONG ISLAND ELEC 340.00 2.0%\\nQRUNCHY SALAD 160.00 1.000\\nASSORTED SATAY 260.00 1.00¢\\n\\nTEQUILA CHICKEN 320,00 1.000\\nFAJITAS CHICKEN 300.00 1.0UC\\nSURF N TURF 360.00 1.000\\nTota) Quantity 9.00\\nGross Tota!\\nVAT 5.5%\\nVAT 14.5%\\n\\nService Tax 5.6%\\n\\n| Service Charges 10.00%\\n\\n~ Net Amount\\n\\nGet Back Joe Joe)\\n\\nA Re i i A Nin a tk A RE Sr ie\\n\\n \\n\\ni\\n\\x0c'"
      ]
     },
     "execution_count": 74,
     "metadata": {},
     "output_type": "execute_result"
    }
   ],
   "source": [
    "text"
   ]
  },
  {
   "cell_type": "code",
   "execution_count": 75,
   "metadata": {},
   "outputs": [],
   "source": [
    "alcohol_list = [x.lower() for x in alcohol_list]"
   ]
  },
  {
   "cell_type": "code",
   "execution_count": 5,
   "metadata": {},
   "outputs": [
    {
     "name": "stderr",
     "output_type": "stream",
     "text": [
      "[nltk_data] Downloading package stopwords to\n",
      "[nltk_data]     /Users/srikanthvemula/nltk_data...\n",
      "[nltk_data]   Package stopwords is already up-to-date!\n"
     ]
    }
   ],
   "source": [
    "import nltk\n",
    "nltk.download('stopwords')\n",
    "\n",
    "alcohol_list = [x.lower() for x in alcohol_list]\n",
    "\n",
    "def isAlcohol(input_text):\n",
    "    stop_words = set(nltk.corpus.stopwords.words('english'))\n",
    "    word_tokens = nltk.tokenize.word_tokenize(input_text)\n",
    "    filtered_tokens = [w for w in word_tokens if w not in stop_words]\n",
    "    filtered_tokens = [w for w in word_tokens if w.isalpha()]\n",
    "\n",
    "    bigrams_trigrams = list(map(' '.join, nltk.everygrams(filtered_tokens, 2, 3)))\n",
    "    # print(bigrams_trigrams)\n",
    "    # print(filtered_tokens)\n",
    "    found_alcohols = set()\n",
    "    for token in filtered_tokens:\n",
    "        if token.lower() in alcohol_list:\n",
    "            found_alcohols.add(token)\n",
    "\n",
    "    for ngram in bigrams_trigrams:\n",
    "        if ngram.lower() in alcohol_list:\n",
    "            found_alcohols.add(ngram)\n",
    "    if (found_alcohols):\n",
    "        print(\"Alcohol bill found in the receipt\")\n",
    "        return found_alcohols\n",
    "    else:\n",
    "        return \"Great no ALCOHOL found\"\n",
    "    "
   ]
  },
  {
   "cell_type": "code",
   "execution_count": 6,
   "metadata": {},
   "outputs": [
    {
     "name": "stdout",
     "output_type": "stream",
     "text": [
      "Alcohol bill found in the receipt\n",
      "{'TEQUILA', 'MOJITO'}\n"
     ]
    }
   ],
   "source": [
    "print(isAlcohol(text1))"
   ]
  },
  {
   "cell_type": "code",
   "execution_count": 7,
   "metadata": {},
   "outputs": [
    {
     "name": "stdout",
     "output_type": "stream",
     "text": [
      "Alcohol bill found in the receipt\n",
      "{'Wine', 'Beverage', 'Grey Goose', 'Liquor'}\n"
     ]
    }
   ],
   "source": [
    "print(isAlcohol(text2))"
   ]
  },
  {
   "cell_type": "code",
   "execution_count": 8,
   "metadata": {},
   "outputs": [
    {
     "name": "stdout",
     "output_type": "stream",
     "text": [
      "Alcohol bill found in the receipt\n",
      "{'BLOODY MARY'}\n"
     ]
    }
   ],
   "source": [
    "print(isAlcohol(text3))"
   ]
  },
  {
   "cell_type": "code",
   "execution_count": 9,
   "metadata": {},
   "outputs": [
    {
     "name": "stdout",
     "output_type": "stream",
     "text": [
      "Great no ALCOHOL found\n"
     ]
    }
   ],
   "source": [
    "print(isAlcohol(text4))"
   ]
  },
  {
   "cell_type": "code",
   "execution_count": null,
   "metadata": {},
   "outputs": [],
   "source": []
  },
  {
   "cell_type": "code",
   "execution_count": null,
   "metadata": {},
   "outputs": [],
   "source": []
  }
 ],
 "metadata": {
  "interpreter": {
   "hash": "b0fa6594d8f4cbf19f97940f81e996739fb7646882a419484c72d19e05852a7e"
  },
  "kernelspec": {
   "display_name": "Python 3.9.7 64-bit",
   "name": "python3"
  },
  "language_info": {
   "codemirror_mode": {
    "name": "ipython",
    "version": 3
   },
   "file_extension": ".py",
   "mimetype": "text/x-python",
   "name": "python",
   "nbconvert_exporter": "python",
   "pygments_lexer": "ipython3",
   "version": "3.9.7"
  },
  "orig_nbformat": 4
 },
 "nbformat": 4,
 "nbformat_minor": 2
}
